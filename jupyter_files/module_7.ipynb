{
 "cells": [
  {
   "cell_type": "code",
   "execution_count": 1,
   "metadata": {},
   "outputs": [],
   "source": [
    "pets = {\n",
    "    \"cat\": {'name': \"Tom\", 'age': 1, 'color': \"white\", 'voice': \"miau\"},\n",
    "    \"dog\": {'name': \"Jinn\", 'age': 2, 'color': \"black\", 'voice': \"gav\"},\n",
    "    \"mause\": {'name': \"Jerry\", 'age': 4, 'color': \"grey\", 'voice': \"pi-pi\"}\n",
    "}"
   ]
  },
  {
   "cell_type": "code",
   "execution_count": 3,
   "metadata": {},
   "outputs": [],
   "source": [
    "pets[\"cat\"]['age'] = 3"
   ]
  },
  {
   "cell_type": "code",
   "execution_count": 8,
   "metadata": {},
   "outputs": [],
   "source": [
    "def make_voice(name, voice):\n",
    "    print(f\"Pet {name} says {voice}!\")\n",
    "\n",
    "def get_info(name, age, color):\n",
    "     print(f\"Pet {name} has age: {age}, {name} is {color}\")"
   ]
  },
  {
   "cell_type": "code",
   "execution_count": 6,
   "metadata": {},
   "outputs": [
    {
     "name": "stdout",
     "output_type": "stream",
     "text": [
      "Pet Tom says miau!\n"
     ]
    }
   ],
   "source": [
    "make_voice(name=\"Tom\", voice=\"miau\")"
   ]
  },
  {
   "cell_type": "code",
   "execution_count": 9,
   "metadata": {},
   "outputs": [
    {
     "ename": "TypeError",
     "evalue": "get_info() got an unexpected keyword argument 'voice'",
     "output_type": "error",
     "traceback": [
      "\u001b[1;31m---------------------------------------------------------------------------\u001b[0m",
      "\u001b[1;31mTypeError\u001b[0m                                 Traceback (most recent call last)",
      "\u001b[1;32m<ipython-input-9-6f172c2ddc01>\u001b[0m in \u001b[0;36m<module>\u001b[1;34m\u001b[0m\n\u001b[1;32m----> 1\u001b[1;33m \u001b[0mget_info\u001b[0m\u001b[1;33m(\u001b[0m\u001b[1;33m**\u001b[0m\u001b[0mpets\u001b[0m\u001b[1;33m[\u001b[0m\u001b[1;34m\"dog\"\u001b[0m\u001b[1;33m]\u001b[0m\u001b[1;33m)\u001b[0m\u001b[1;33m\u001b[0m\u001b[1;33m\u001b[0m\u001b[0m\n\u001b[0m",
      "\u001b[1;31mTypeError\u001b[0m: get_info() got an unexpected keyword argument 'voice'"
     ]
    }
   ],
   "source": [
    "get_info(**pets[\"dog\"])"
   ]
  },
  {
   "cell_type": "code",
   "execution_count": 14,
   "metadata": {},
   "outputs": [],
   "source": [
    "class Pet:\n",
    "    \n",
    "    count = 0\n",
    "    \n",
    "    def __init__(self, name, age, color, voice):\n",
    "        self.name = name\n",
    "        self.age = age\n",
    "        self.color = color\n",
    "        self.voice = voice\n",
    "        Pet.count += 1\n",
    "        \n",
    "    def up_age(self):\n",
    "        self.age += 1\n",
    "    \n",
    "    def make_voice(self):\n",
    "        print(f\"Pet {self.name} says {self.voice}!\")\n",
    "\n",
    "    def get_info(self):\n",
    "        print(f\"Pet {self.name} has age: {self.age}, {self.name} is {self.color}\")\n",
    "    \n",
    "    def info(self):\n",
    "        print(f\"name: {self.name}, age: {self.age}, color: {self.color}, voice: {self.voice}\")\n",
    "        \n",
    "    def __repr__(self):\n",
    "        return f\"class: {self.__class__.__name__};  name: {self.name}, age: {self.age}, color: {self.color}, voice: {self.voice}\"\n",
    "    \n",
    "    @staticmethod\n",
    "    def show_count():\n",
    "        print(f\"Pet count: {Pet.count}\")\n",
    "    \n",
    "    @staticmethod\n",
    "    def constructor(\" \"):\n",
    "        name, age, color, voice = \" \"\n",
    "        return Pet(name, age, color, voice)"
   ]
  },
  {
   "cell_type": "code",
   "execution_count": 16,
   "metadata": {},
   "outputs": [
    {
     "name": "stdout",
     "output_type": "stream",
     "text": [
      "Pet count: 3\n",
      "Pet count: 3\n"
     ]
    }
   ],
   "source": [
    "Pet.show_count()\n",
    "cat.show_count()"
   ]
  },
  {
   "cell_type": "code",
   "execution_count": 103,
   "metadata": {},
   "outputs": [],
   "source": [
    "Pet.age = 2"
   ]
  },
  {
   "cell_type": "code",
   "execution_count": 104,
   "metadata": {},
   "outputs": [
    {
     "ename": "AttributeError",
     "evalue": "type object 'Pet' has no attribute 'name'",
     "output_type": "error",
     "traceback": [
      "\u001b[1;31m---------------------------------------------------------------------------\u001b[0m",
      "\u001b[1;31mAttributeError\u001b[0m                            Traceback (most recent call last)",
      "\u001b[1;32m<ipython-input-104-cdb7b1a2eb38>\u001b[0m in \u001b[0;36m<module>\u001b[1;34m\u001b[0m\n\u001b[1;32m----> 1\u001b[1;33m \u001b[0mPet\u001b[0m\u001b[1;33m.\u001b[0m\u001b[0mmake_voice\u001b[0m\u001b[1;33m(\u001b[0m\u001b[0mPet\u001b[0m\u001b[1;33m.\u001b[0m\u001b[0mname\u001b[0m\u001b[1;33m,\u001b[0m \u001b[0mPet\u001b[0m\u001b[1;33m.\u001b[0m\u001b[0mvoice\u001b[0m\u001b[1;33m)\u001b[0m\u001b[1;33m\u001b[0m\u001b[1;33m\u001b[0m\u001b[0m\n\u001b[0m",
      "\u001b[1;31mAttributeError\u001b[0m: type object 'Pet' has no attribute 'name'"
     ]
    }
   ],
   "source": [
    "# Pet.make_voice(Pet.name, Pet.voice)"
   ]
  },
  {
   "cell_type": "code",
   "execution_count": 15,
   "metadata": {},
   "outputs": [],
   "source": [
    "cat = Pet(\"Tom\", 2, \"white\", \"miau\")\n",
    "dog = Pet(\"Jinn\", age=3, color=\"black\", voice=\"gav\")\n",
    "mause = Pet(\"Jerry\", 4, \"grey\", \"pi-pi\")"
   ]
  },
  {
   "cell_type": "code",
   "execution_count": 4,
   "metadata": {},
   "outputs": [
    {
     "name": "stdout",
     "output_type": "stream",
     "text": [
      "Pet Tom has age: 2, Tom is white\n"
     ]
    }
   ],
   "source": [
    "cat.name, cat.age\n",
    "cat.get_info()"
   ]
  },
  {
   "cell_type": "code",
   "execution_count": 107,
   "metadata": {},
   "outputs": [
    {
     "data": {
      "text/plain": [
       "('Jinn', 3)"
      ]
     },
     "execution_count": 107,
     "metadata": {},
     "output_type": "execute_result"
    }
   ],
   "source": [
    "dog.name, dog.age"
   ]
  },
  {
   "cell_type": "code",
   "execution_count": 108,
   "metadata": {},
   "outputs": [
    {
     "name": "stdout",
     "output_type": "stream",
     "text": [
      "Pet Jerry says pi-pi!\n"
     ]
    }
   ],
   "source": [
    "mause.make_voice()"
   ]
  },
  {
   "cell_type": "code",
   "execution_count": 113,
   "metadata": {},
   "outputs": [
    {
     "name": "stdout",
     "output_type": "stream",
     "text": [
      "name: Tom, age: 4, color: white, voice: miau\n"
     ]
    }
   ],
   "source": [
    "# Pet.get_info(cat)\n",
    "cat.info()"
   ]
  },
  {
   "cell_type": "code",
   "execution_count": 112,
   "metadata": {},
   "outputs": [],
   "source": [
    "cat.up_age()"
   ]
  },
  {
   "cell_type": "code",
   "execution_count": 118,
   "metadata": {},
   "outputs": [
    {
     "name": "stdout",
     "output_type": "stream",
     "text": [
      "Pet Mursik says miau!\n"
     ]
    }
   ],
   "source": [
    "cat_2 = Pet(\"Mursik\", 1, \"black-white\", \"miau\")\n",
    "cat_2.make_voice()"
   ]
  },
  {
   "cell_type": "code",
   "execution_count": 119,
   "metadata": {},
   "outputs": [
    {
     "name": "stdout",
     "output_type": "stream",
     "text": [
      "name: Mursik, age: 1, color: black-white, voice: miau\n"
     ]
    }
   ],
   "source": [
    "cat_2.info()"
   ]
  },
  {
   "cell_type": "code",
   "execution_count": 121,
   "metadata": {},
   "outputs": [
    {
     "data": {
      "text/plain": [
       "(class: Pet;  name: Tom, age: 2, color: white, voice: miau,\n",
       " class: Pet;  name: Mursik, age: 1, color: black-white, voice: miau)"
      ]
     },
     "execution_count": 121,
     "metadata": {},
     "output_type": "execute_result"
    }
   ],
   "source": [
    "cat, cat_2"
   ]
  },
  {
   "cell_type": "code",
   "execution_count": 122,
   "metadata": {},
   "outputs": [
    {
     "name": "stdout",
     "output_type": "stream",
     "text": [
      "name: Tom, age: 2, color: white, voice: miau\n",
      "name: Mursik, age: 1, color: black-white, voice: miau\n"
     ]
    }
   ],
   "source": [
    "pets = [cat, cat_2]\n",
    "for pet in pets:\n",
    "    pet.info()"
   ]
  },
  {
   "cell_type": "code",
   "execution_count": 133,
   "metadata": {},
   "outputs": [
    {
     "data": {
      "text/plain": [
       "3"
      ]
     },
     "execution_count": 133,
     "metadata": {},
     "output_type": "execute_result"
    }
   ],
   "source": [
    "Pet.count"
   ]
  },
  {
   "cell_type": "code",
   "execution_count": 134,
   "metadata": {},
   "outputs": [
    {
     "data": {
      "text/plain": [
       "3"
      ]
     },
     "execution_count": 134,
     "metadata": {},
     "output_type": "execute_result"
    }
   ],
   "source": [
    "cat.count = 5\n",
    "cat.count\n",
    "dog.count"
   ]
  },
  {
   "cell_type": "code",
   "execution_count": null,
   "metadata": {},
   "outputs": [],
   "source": [
    "class Cooperative:\n",
    "    def __init__(self):\n",
    "        self.garages = {'1': Garage()}\n",
    "        \n",
    "    \n",
    "class Garage:\n",
    "    def __init__(self, car):\n",
    "        self.auto = car\n",
    "\n",
    "        \n",
    "class Car:\n",
    "    pass"
   ]
  },
  {
   "cell_type": "code",
   "execution_count": null,
   "metadata": {},
   "outputs": [],
   "source": [
    "Garage(Car())"
   ]
  },
  {
   "cell_type": "code",
   "execution_count": 124,
   "metadata": {},
   "outputs": [],
   "source": [
    "import builtins"
   ]
  },
  {
   "cell_type": "code",
   "execution_count": null,
   "metadata": {},
   "outputs": [],
   "source": [
    "a = 10\n",
    "def foo():\n",
    "    a = 20\n",
    "    c = a\n",
    "    print(c)"
   ]
  },
  {
   "cell_type": "code",
   "execution_count": 139,
   "metadata": {},
   "outputs": [
    {
     "data": {
      "text/plain": [
       "3"
      ]
     },
     "execution_count": 139,
     "metadata": {},
     "output_type": "execute_result"
    }
   ],
   "source": [
    "mause.count"
   ]
  },
  {
   "cell_type": "code",
   "execution_count": 140,
   "metadata": {},
   "outputs": [],
   "source": [
    "cat.counter = 2"
   ]
  },
  {
   "cell_type": "code",
   "execution_count": 142,
   "metadata": {},
   "outputs": [
    {
     "data": {
      "text/plain": [
       "['__class__',\n",
       " '__delattr__',\n",
       " '__dict__',\n",
       " '__dir__',\n",
       " '__doc__',\n",
       " '__eq__',\n",
       " '__format__',\n",
       " '__ge__',\n",
       " '__getattribute__',\n",
       " '__gt__',\n",
       " '__hash__',\n",
       " '__init__',\n",
       " '__init_subclass__',\n",
       " '__le__',\n",
       " '__lt__',\n",
       " '__module__',\n",
       " '__ne__',\n",
       " '__new__',\n",
       " '__reduce__',\n",
       " '__reduce_ex__',\n",
       " '__repr__',\n",
       " '__setattr__',\n",
       " '__sizeof__',\n",
       " '__str__',\n",
       " '__subclasshook__',\n",
       " '__weakref__',\n",
       " 'age',\n",
       " 'color',\n",
       " 'count',\n",
       " 'get_info',\n",
       " 'info',\n",
       " 'make_voice',\n",
       " 'name',\n",
       " 'up_age',\n",
       " 'voice']"
      ]
     },
     "execution_count": 142,
     "metadata": {},
     "output_type": "execute_result"
    }
   ],
   "source": [
    "dir(mause)"
   ]
  },
  {
   "cell_type": "code",
   "execution_count": null,
   "metadata": {},
   "outputs": [],
   "source": [
    "dic = {\"name\": {\"obj\": }, \"Path\": \"/path/to/file\"}"
   ]
  },
  {
   "cell_type": "code",
   "execution_count": null,
   "metadata": {},
   "outputs": [],
   "source": []
  },
  {
   "cell_type": "code",
   "execution_count": null,
   "metadata": {},
   "outputs": [],
   "source": []
  },
  {
   "cell_type": "code",
   "execution_count": 1,
   "metadata": {},
   "outputs": [],
   "source": [
    "class Student:\n",
    "    def __init__(self, name):\n",
    "        self.name = name\n",
    "\n",
    "    def __step(self):\n",
    "        print (\"Make step\")\n",
    "        \n",
    "    def _foo(self):\n",
    "        print (\"Make step\")\n",
    "   \n",
    "    def going_home(self):\n",
    "        for step in range(3):\n",
    "            self.__step()"
   ]
  },
  {
   "cell_type": "code",
   "execution_count": 2,
   "metadata": {},
   "outputs": [
    {
     "name": "stdout",
     "output_type": "stream",
     "text": [
      "Make step\n",
      "Make step\n",
      "Make step\n"
     ]
    }
   ],
   "source": [
    "student = Student('Alice')\n",
    "student.going_home()"
   ]
  },
  {
   "cell_type": "code",
   "execution_count": 4,
   "metadata": {},
   "outputs": [
    {
     "name": "stdout",
     "output_type": "stream",
     "text": [
      "Make step\n"
     ]
    }
   ],
   "source": [
    "student._Student__step()"
   ]
  },
  {
   "cell_type": "code",
   "execution_count": null,
   "metadata": {},
   "outputs": [],
   "source": []
  },
  {
   "cell_type": "code",
   "execution_count": 84,
   "metadata": {},
   "outputs": [],
   "source": [
    "class Pet:\n",
    "    \n",
    "    count = 0\n",
    "    \n",
    "    def __init__(self, name, age, color, voice):\n",
    "        self.name = name\n",
    "        self.set_age(age)\n",
    "        self.color = color\n",
    "        self.voice = voice\n",
    "        Pet.count += 1\n",
    "        \n",
    "    def get_age(self):\n",
    "        return self.__age\n",
    "    \n",
    "    def set_age(self, age):\n",
    "        if age < 0:\n",
    "            raise Exception(\"Field age cannot be negative!\")\n",
    "        else:\n",
    "            self.__age = age\n",
    "        \n",
    "    def up_age(self):\n",
    "        self.__age += 1\n",
    "    \n",
    "    def make_voice(self):\n",
    "        print(f\"Pet {self.name} says {self.voice}!\")\n",
    "\n",
    "    def get_info(self):\n",
    "        print(f\"Pet {self.name} has age: {self.age}, {self.name} is {self.color}\")\n",
    "    \n",
    "    def info(self):\n",
    "        print(f\"name: {self.name}, age: {self.__age}, color: {self.color}, voice: {self.voice}\")\n",
    "        \n",
    "    def __repr__(self):\n",
    "        return f\"class: {self.__class__.__name__};  name: {self.name}, age: {self.__age}, color: {self.color}, voice: {self.voice}\"\n",
    "    \n",
    "    @staticmethod\n",
    "    def show_count():\n",
    "        print(f\"Pet count: {Pet.count}\")\n",
    "    \n",
    "    @classmethod\n",
    "    def print_cout(cls):\n",
    "        print(f\"{cls.__name__} count: {cls.count}\")\n",
    "        \n",
    "    age = property(get_age, set_age)"
   ]
  },
  {
   "cell_type": "code",
   "execution_count": 99,
   "metadata": {},
   "outputs": [],
   "source": [
    "class Pet:\n",
    "    \n",
    "    count = 0\n",
    "    \n",
    "    def __init__(self, name, age, color, voice):\n",
    "        self.name = name\n",
    "        self.age = age\n",
    "        self.color = color\n",
    "        self.voice = voice\n",
    "        Pet.count += 1\n",
    "        \n",
    "    @property\n",
    "    def age(self):\n",
    "        return self.__age\n",
    "    \n",
    "    @age.setter\n",
    "    def age(self, age):\n",
    "        if age < 0:\n",
    "            raise Exception(\"Field age cannot be negative!\")\n",
    "        else:\n",
    "            self.__age = age\n",
    "        \n",
    "    def up_age(self):\n",
    "        self.age += 1\n",
    "    \n",
    "    def make_voice(self):\n",
    "        print(f\"Pet {self.name} says {self.voice}!\")\n",
    "\n",
    "    def get_info(self):\n",
    "        print(f\"Pet {self.name} has age: {self.age}, {self.name} is {self.color}\")\n",
    "    \n",
    "    def info(self):\n",
    "        print(f\"name: {self.name}, age: {self.age}, color: {self.color}, voice: {self.voice}\")\n",
    "        \n",
    "    def __repr__(self):\n",
    "        return f\"class: {self.__class__.__name__};  name: {self.name}, age: {self.age}, color: {self.color}, voice: {self.voice}\"\n",
    "    \n",
    "    @staticmethod\n",
    "    def show_count():\n",
    "        print(f\"Pet count: {Pet.count}\")\n",
    "    \n",
    "    @classmethod\n",
    "    def print_cout(cls):\n",
    "        print(f\"{cls.__name__} count: {cls.count}\")"
   ]
  },
  {
   "cell_type": "code",
   "execution_count": 100,
   "metadata": {},
   "outputs": [],
   "source": [
    "class Bird(Pet):\n",
    "    count = 0\n",
    "    def __init__(self, name, age, color, wing, voice):\n",
    "        super().__init__(name, age, color, voice=voice)\n",
    "        self.wing_range = wing\n",
    "        Bird.count += 1\n",
    "    \n",
    "    def fly(self):\n",
    "        print(\"Pet can fly!\")"
   ]
  },
  {
   "cell_type": "code",
   "execution_count": 106,
   "metadata": {},
   "outputs": [],
   "source": [
    "class Dog(Pet):\n",
    "    count = 0\n",
    "    def __init__(self, name, age, color, jump, voice):\n",
    "        super().__init__(name, age, color, voice=voice)\n",
    "        self.jump_len = jump\n",
    "        Dog.count += 1\n",
    "    \n",
    "    def run(self):\n",
    "        print(\"Pet can run!\")\n",
    "        \n",
    "    def info(self):\n",
    "        print(f\"name: {self.name}, age: {self.age}, color: {self.color}, voice: {self.voice}, jump: {self.jump_len}\")"
   ]
  },
  {
   "cell_type": "code",
   "execution_count": 102,
   "metadata": {},
   "outputs": [],
   "source": [
    "parrot = Bird(\"Jacko\", 2, \"blue\", 0.5, voice=\"kar-kar\")"
   ]
  },
  {
   "cell_type": "code",
   "execution_count": 103,
   "metadata": {},
   "outputs": [
    {
     "name": "stdout",
     "output_type": "stream",
     "text": [
      "name: Jacko, age: 2, color: blue, voice: kar-kar\n"
     ]
    }
   ],
   "source": [
    "parrot.info()"
   ]
  },
  {
   "cell_type": "code",
   "execution_count": 107,
   "metadata": {},
   "outputs": [],
   "source": [
    "dog = Dog(\"Jinn\", age=3, color=\"black\", jump=2, voice=\"gav\")"
   ]
  },
  {
   "cell_type": "code",
   "execution_count": 108,
   "metadata": {},
   "outputs": [
    {
     "name": "stdout",
     "output_type": "stream",
     "text": [
      "name: Jinn, age: 3, color: black, voice: gav, jump: 2\n"
     ]
    }
   ],
   "source": [
    "dog.info()"
   ]
  },
  {
   "cell_type": "code",
   "execution_count": 109,
   "metadata": {},
   "outputs": [
    {
     "name": "stdout",
     "output_type": "stream",
     "text": [
      "Pet count: 3\n",
      "Dog count: 1\n",
      "Pet count: 3\n",
      "Dog count: 1\n",
      "Pet count: 3\n"
     ]
    },
    {
     "data": {
      "text/plain": [
       "(None, None, None, None, None)"
      ]
     },
     "execution_count": 109,
     "metadata": {},
     "output_type": "execute_result"
    }
   ],
   "source": [
    "dog.show_count(), dog.print_cout(), Pet.show_count(), Dog.print_cout(), Pet.print_cout()"
   ]
  },
  {
   "cell_type": "code",
   "execution_count": 92,
   "metadata": {},
   "outputs": [
    {
     "data": {
      "text/plain": [
       "(3, 2)"
      ]
     },
     "execution_count": 92,
     "metadata": {},
     "output_type": "execute_result"
    }
   ],
   "source": [
    "dog.get_age(), parrot.get_age()"
   ]
  },
  {
   "cell_type": "code",
   "execution_count": 93,
   "metadata": {},
   "outputs": [
    {
     "data": {
      "text/plain": [
       "(None, None)"
      ]
     },
     "execution_count": 93,
     "metadata": {},
     "output_type": "execute_result"
    }
   ],
   "source": [
    "dog.set_age(5), parrot.set_age(4)\n",
    "#dog._Pet__age = 10"
   ]
  },
  {
   "cell_type": "code",
   "execution_count": 112,
   "metadata": {},
   "outputs": [],
   "source": [
    "dog.age = 5  \n",
    "parrot.age = 4"
   ]
  },
  {
   "cell_type": "code",
   "execution_count": 113,
   "metadata": {},
   "outputs": [
    {
     "data": {
      "text/plain": [
       "(5, 4)"
      ]
     },
     "execution_count": 113,
     "metadata": {},
     "output_type": "execute_result"
    }
   ],
   "source": [
    "dog.age, parrot.age"
   ]
  },
  {
   "cell_type": "code",
   "execution_count": 58,
   "metadata": {},
   "outputs": [
    {
     "name": "stdout",
     "output_type": "stream",
     "text": [
      "name: Jinn, age: 4, color: black, voice: gav, jump: 2\n"
     ]
    }
   ],
   "source": [
    "dog.info()"
   ]
  },
  {
   "cell_type": "code",
   "execution_count": 62,
   "metadata": {},
   "outputs": [
    {
     "data": {
      "text/plain": [
       "(1, 1)"
      ]
     },
     "execution_count": 62,
     "metadata": {},
     "output_type": "execute_result"
    }
   ],
   "source": [
    "Dog.count, Bird.count"
   ]
  },
  {
   "cell_type": "code",
   "execution_count": 60,
   "metadata": {},
   "outputs": [
    {
     "data": {
      "text/plain": [
       "2"
      ]
     },
     "execution_count": 60,
     "metadata": {},
     "output_type": "execute_result"
    }
   ],
   "source": [
    "Pet.count"
   ]
  },
  {
   "cell_type": "code",
   "execution_count": 114,
   "metadata": {},
   "outputs": [
    {
     "data": {
      "text/plain": [
       "['_Pet__age',\n",
       " '__class__',\n",
       " '__delattr__',\n",
       " '__dict__',\n",
       " '__dir__',\n",
       " '__doc__',\n",
       " '__eq__',\n",
       " '__format__',\n",
       " '__ge__',\n",
       " '__getattribute__',\n",
       " '__gt__',\n",
       " '__hash__',\n",
       " '__init__',\n",
       " '__init_subclass__',\n",
       " '__le__',\n",
       " '__lt__',\n",
       " '__module__',\n",
       " '__ne__',\n",
       " '__new__',\n",
       " '__reduce__',\n",
       " '__reduce_ex__',\n",
       " '__repr__',\n",
       " '__setattr__',\n",
       " '__sizeof__',\n",
       " '__str__',\n",
       " '__subclasshook__',\n",
       " '__weakref__',\n",
       " 'age',\n",
       " 'color',\n",
       " 'count',\n",
       " 'get_info',\n",
       " 'info',\n",
       " 'jump_len',\n",
       " 'make_voice',\n",
       " 'name',\n",
       " 'print_cout',\n",
       " 'run',\n",
       " 'show_count',\n",
       " 'up_age',\n",
       " 'voice']"
      ]
     },
     "execution_count": 114,
     "metadata": {},
     "output_type": "execute_result"
    }
   ],
   "source": [
    "dir(dog)"
   ]
  },
  {
   "cell_type": "code",
   "execution_count": null,
   "metadata": {},
   "outputs": [],
   "source": []
  },
  {
   "cell_type": "code",
   "execution_count": null,
   "metadata": {},
   "outputs": [],
   "source": []
  },
  {
   "cell_type": "code",
   "execution_count": 63,
   "metadata": {},
   "outputs": [],
   "source": [
    "dic = {'a': 10, 'b': 20}"
   ]
  },
  {
   "cell_type": "code",
   "execution_count": 65,
   "metadata": {},
   "outputs": [],
   "source": [
    "dic_str = str(dic)"
   ]
  },
  {
   "cell_type": "code",
   "execution_count": 66,
   "metadata": {},
   "outputs": [
    {
     "data": {
      "text/plain": [
       "{'a': 10, 'b': 20}"
      ]
     },
     "execution_count": 66,
     "metadata": {},
     "output_type": "execute_result"
    }
   ],
   "source": [
    "dic2 = eval(dic_str)\n",
    "dic2"
   ]
  },
  {
   "cell_type": "code",
   "execution_count": 116,
   "metadata": {},
   "outputs": [],
   "source": [
    "class A:\n",
    "    pass\n",
    "\n",
    "class B:\n",
    "    pass\n",
    "\n",
    "class C(A, B):\n",
    "    pass"
   ]
  },
  {
   "cell_type": "code",
   "execution_count": 117,
   "metadata": {},
   "outputs": [],
   "source": [
    "c = C()"
   ]
  },
  {
   "cell_type": "code",
   "execution_count": 120,
   "metadata": {},
   "outputs": [
    {
     "data": {
      "text/plain": [
       "[__main__.C, __main__.A, __main__.B, object]"
      ]
     },
     "execution_count": 120,
     "metadata": {},
     "output_type": "execute_result"
    }
   ],
   "source": [
    "C.mro()"
   ]
  },
  {
   "cell_type": "code",
   "execution_count": 122,
   "metadata": {},
   "outputs": [
    {
     "data": {
      "text/plain": [
       "(__main__.C, __main__.A, __main__.B, object)"
      ]
     },
     "execution_count": 122,
     "metadata": {},
     "output_type": "execute_result"
    }
   ],
   "source": [
    "C.__mro__"
   ]
  },
  {
   "cell_type": "code",
   "execution_count": 123,
   "metadata": {},
   "outputs": [
    {
     "data": {
      "text/plain": [
       "['__class__',\n",
       " '__delattr__',\n",
       " '__dir__',\n",
       " '__doc__',\n",
       " '__eq__',\n",
       " '__format__',\n",
       " '__ge__',\n",
       " '__getattribute__',\n",
       " '__gt__',\n",
       " '__hash__',\n",
       " '__init__',\n",
       " '__init_subclass__',\n",
       " '__le__',\n",
       " '__lt__',\n",
       " '__ne__',\n",
       " '__new__',\n",
       " '__reduce__',\n",
       " '__reduce_ex__',\n",
       " '__repr__',\n",
       " '__setattr__',\n",
       " '__sizeof__',\n",
       " '__str__',\n",
       " '__subclasshook__']"
      ]
     },
     "execution_count": 123,
     "metadata": {},
     "output_type": "execute_result"
    }
   ],
   "source": [
    "dir(object)"
   ]
  },
  {
   "cell_type": "code",
   "execution_count": null,
   "metadata": {},
   "outputs": [],
   "source": []
  }
 ],
 "metadata": {
  "kernelspec": {
   "display_name": "Python 3",
   "language": "python",
   "name": "python3"
  },
  "language_info": {
   "codemirror_mode": {
    "name": "ipython",
    "version": 3
   },
   "file_extension": ".py",
   "mimetype": "text/x-python",
   "name": "python",
   "nbconvert_exporter": "python",
   "pygments_lexer": "ipython3",
   "version": "3.8.6"
  }
 },
 "nbformat": 4,
 "nbformat_minor": 4
}
