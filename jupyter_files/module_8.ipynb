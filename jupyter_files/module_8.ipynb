{
 "cells": [
  {
   "cell_type": "code",
   "execution_count": 1,
   "metadata": {},
   "outputs": [],
   "source": [
    "import sqlite3"
   ]
  },
  {
   "cell_type": "code",
   "execution_count": 2,
   "metadata": {},
   "outputs": [],
   "source": [
    "connection = sqlite3.connect(\"testdb.db\")\n",
    "connection.close()"
   ]
  },
  {
   "cell_type": "code",
   "execution_count": 3,
   "metadata": {},
   "outputs": [
    {
     "data": {
      "text/plain": [
       "'2.6.0'"
      ]
     },
     "execution_count": 3,
     "metadata": {},
     "output_type": "execute_result"
    }
   ],
   "source": [
    "sqlite3.version"
   ]
  },
  {
   "cell_type": "code",
   "execution_count": 4,
   "metadata": {},
   "outputs": [
    {
     "data": {
      "text/plain": [
       "'3.32.3'"
      ]
     },
     "execution_count": 4,
     "metadata": {},
     "output_type": "execute_result"
    }
   ],
   "source": [
    "sqlite3.sqlite_version"
   ]
  },
  {
   "cell_type": "code",
   "execution_count": 13,
   "metadata": {},
   "outputs": [
    {
     "name": "stdout",
     "output_type": "stream",
     "text": [
      "SQLite version: 3.32.3\n"
     ]
    }
   ],
   "source": [
    "connection = sqlite3.connect(\"testdb.db\")\n",
    "\n",
    "with connection:\n",
    "#     with connection.cursor() as currsor: \n",
    "    cursor = connection.cursor()  \n",
    "    cursor.execute('SELECT SQLITE_VERSION()')\n",
    "    data = cursor.fetchone()\n",
    "    print(\"SQLite version: %s\" % data)\n",
    "    cursor.close()"
   ]
  },
  {
   "cell_type": "code",
   "execution_count": 14,
   "metadata": {},
   "outputs": [],
   "source": [
    "cars = (\n",
    "    (1, 'Audi', 52642),\n",
    "    (2, 'Mercedes', 57127),\n",
    "    (3, 'Skoda', 9000),\n",
    "    (4, 'Volvo', 29000),\n",
    "    (5, 'Bentley', 350000),\n",
    "    (6, 'Hummer', 41400),\n",
    "    (7, 'Volkswagen', 21600)\n",
    ")\n",
    "con = sqlite3.connect(\"testdb.db\")\n",
    " \n",
    "with con:\n",
    "    cur = con.cursor()\n",
    "    cur.execute(\"DROP TABLE IF EXISTS Cars\")\n",
    "    cur.execute(\"CREATE TABLE Cars(Id INT, Name TEXT, Price INT)\")\n",
    "    cur.executemany(\"INSERT INTO Cars VALUES(?, ?, ?)\", cars)"
   ]
  },
  {
   "cell_type": "code",
   "execution_count": 25,
   "metadata": {},
   "outputs": [
    {
     "name": "stdout",
     "output_type": "stream",
     "text": [
      "Audi       |  52642\n",
      "Mercedes   |  57127\n",
      "Bentley    | 350000\n"
     ]
    }
   ],
   "source": [
    "with con:\n",
    "    cur.execute(\"SELECT Name, Price FROM Cars WHERE Price > 50000\")\n",
    "    data = cur.fetchall()\n",
    "    for row in data:\n",
    "#         print(f\"{row[0]:<10s} | {row[1]:6d}\")\n",
    "#         print(f\"{row[0]:2d} | {row[1]:<10s} | {row[2]:6d}\")"
   ]
  },
  {
   "cell_type": "code",
   "execution_count": 28,
   "metadata": {},
   "outputs": [
    {
     "name": "stdout",
     "output_type": "stream",
     "text": [
      " 1 | Audi       |  62300\n",
      " 2 | Mercedes   |  57127\n",
      " 3 | Skoda      |   9000\n",
      " 4 | Volvo      |  29000\n",
      " 5 | Bentley    | 350000\n",
      " 6 | Hummer     |  41400\n",
      " 7 | Volkswagen |  21600\n"
     ]
    }
   ],
   "source": [
    "with con:\n",
    "    cur.execute(\"SELECT * FROM Cars\")\n",
    "    data = cur.fetchall()\n",
    "    for row in data:\n",
    "#         print(f\"{row[0]:<10s} | {row[1]:6d}\")\n",
    "        print(f\"{row[0]:2d} | {row[1]:<10s} | {row[2]:6d}\")"
   ]
  },
  {
   "cell_type": "code",
   "execution_count": 27,
   "metadata": {},
   "outputs": [
    {
     "name": "stdout",
     "output_type": "stream",
     "text": [
      "Number of rows updated: 1\n"
     ]
    }
   ],
   "source": [
    "uId = 1\n",
    "uPrice = 62300 \n",
    "with con:\n",
    "    cur = con.cursor()    \n",
    "    cur.execute(\"UPDATE Cars SET Price=? WHERE Id=?\", (uPrice, uId))        \n",
    "    con.commit()\n",
    "    print(\"Number of rows updated: {}\".format(cur.rowcount))"
   ]
  },
  {
   "cell_type": "code",
   "execution_count": 29,
   "metadata": {},
   "outputs": [],
   "source": [
    "con.close()"
   ]
  },
  {
   "cell_type": "code",
   "execution_count": 30,
   "metadata": {},
   "outputs": [],
   "source": [
    "from sqlalchemy import create_engine"
   ]
  },
  {
   "cell_type": "code",
   "execution_count": 31,
   "metadata": {},
   "outputs": [],
   "source": [
    "engine = create_engine(\"sqlite:///test_alchemy.db\")"
   ]
  },
  {
   "cell_type": "code",
   "execution_count": 32,
   "metadata": {},
   "outputs": [
    {
     "data": {
      "text/plain": [
       "Engine(sqlite:///test_alchemy.db)"
      ]
     },
     "execution_count": 32,
     "metadata": {},
     "output_type": "execute_result"
    }
   ],
   "source": [
    "engine"
   ]
  },
  {
   "cell_type": "code",
   "execution_count": 33,
   "metadata": {},
   "outputs": [],
   "source": [
    "conn = engine.connect()\n",
    "conn.execute(\"CREATE TABLE Cars(Id INT, Name TEXT, Price INT)\")\n",
    "# result = conn.execute(\"select * from employee\")\n",
    "# result.fetchall()\n",
    "conn.close()\n",
    "#     cur.execute(\"DROP TABLE IF EXISTS Cars\")\n",
    "#     cur.execute(\"CREATE TABLE Cars(Id INT, Name TEXT, Price INT)\")\n",
    "#     cur.executemany(\"INSERT INTO Cars VALUES(?, ?, ?)\", cars)"
   ]
  },
  {
   "cell_type": "code",
   "execution_count": 34,
   "metadata": {},
   "outputs": [],
   "source": [
    "cars = (\n",
    "    (1, 'Audi', 52642),\n",
    "    (2, 'Mercedes', 57127),\n",
    "    (3, 'Skoda', 9000),\n",
    "    (4, 'Volvo', 29000),\n",
    "    (5, 'Bentley', 350000),\n",
    "    (6, 'Hummer', 41400),\n",
    "    (7, 'Volkswagen', 21600)\n",
    ")"
   ]
  },
  {
   "cell_type": "code",
   "execution_count": 35,
   "metadata": {},
   "outputs": [],
   "source": [
    "conn = engine.connect()\n",
    "trans = conn.begin()\n",
    "# conn.execute(\"insert into employee (emp_name) values (:emp_name)\", emp_name=\"wendy\")\n",
    "conn.execute(\"INSERT INTO Cars VALUES(:idv, :name, :price)\", idv=1, name='Audi', price=52642)\n",
    "trans.commit()\n",
    "conn.close()"
   ]
  },
  {
   "cell_type": "code",
   "execution_count": 36,
   "metadata": {},
   "outputs": [],
   "source": [
    "conn = engine.connect()\n",
    "trans = conn.begin()\n",
    "# conn.execute(\"insert into employee (emp_name) values (:emp_name)\", emp_name=\"wendy\")\n",
    "for idv_, name_, price_ in cars[1:]:\n",
    "    conn.execute(\"INSERT INTO Cars VALUES(:idv, :name, :price)\", idv=idv_, name=name_, price=price_)\n",
    "trans.commit()\n",
    "conn.close()"
   ]
  },
  {
   "cell_type": "code",
   "execution_count": null,
   "metadata": {},
   "outputs": [],
   "source": []
  },
  {
   "cell_type": "code",
   "execution_count": null,
   "metadata": {},
   "outputs": [],
   "source": []
  },
  {
   "cell_type": "code",
   "execution_count": 43,
   "metadata": {},
   "outputs": [],
   "source": [
    "engine = create_engine(\"sqlite:///test_orm.db\")"
   ]
  },
  {
   "cell_type": "code",
   "execution_count": 37,
   "metadata": {},
   "outputs": [],
   "source": [
    "from sqlalchemy import MetaData\n",
    "from sqlalchemy import Table, Column\n",
    "from sqlalchemy import Integer, String\n",
    "\n",
    "metadata = MetaData()\n",
    "cars_table = Table('cars', metadata,\n",
    "               Column('id', Integer, primary_key=True),\n",
    "               Column('name', String),\n",
    "               Column('price', Integer)\n",
    "             )"
   ]
  },
  {
   "cell_type": "code",
   "execution_count": 44,
   "metadata": {},
   "outputs": [
    {
     "data": {
      "text/plain": [
       "Table('cars', MetaData(bind=None), Column('id', Integer(), table=<cars>, primary_key=True, nullable=False), Column('name', String(), table=<cars>), Column('price', Integer(), table=<cars>), schema=None)"
      ]
     },
     "execution_count": 44,
     "metadata": {},
     "output_type": "execute_result"
    }
   ],
   "source": [
    "cars_table"
   ]
  },
  {
   "cell_type": "code",
   "execution_count": 45,
   "metadata": {},
   "outputs": [
    {
     "name": "stdout",
     "output_type": "stream",
     "text": [
      "SELECT cars.id, cars.name, cars.price \n",
      "FROM cars\n"
     ]
    }
   ],
   "source": [
    "print(cars_table.select())"
   ]
  },
  {
   "cell_type": "code",
   "execution_count": 46,
   "metadata": {},
   "outputs": [],
   "source": [
    "metadata.create_all(engine)"
   ]
  },
  {
   "cell_type": "code",
   "execution_count": 50,
   "metadata": {},
   "outputs": [],
   "source": [
    "from sqlalchemy import select"
   ]
  },
  {
   "cell_type": "code",
   "execution_count": 47,
   "metadata": {},
   "outputs": [],
   "source": [
    "conn = engine.connect()\n",
    "conn.execute(cars_table.insert(), [\n",
    "        {'id': cars[0][0], 'name': cars[0][1], 'price': cars[0][2]},\n",
    "        {'id': cars[1][0], 'name': cars[1][1], 'price': cars[1][2]}\n",
    "])\n",
    "conn.close()"
   ]
  },
  {
   "cell_type": "code",
   "execution_count": 54,
   "metadata": {},
   "outputs": [],
   "source": [
    "# print(cars_table.select([cars_table]))"
   ]
  },
  {
   "cell_type": "code",
   "execution_count": 52,
   "metadata": {},
   "outputs": [
    {
     "name": "stdout",
     "output_type": "stream",
     "text": [
      "(1, 'Audi', 52642)\n",
      "(2, 'Mercedes', 57127)\n"
     ]
    }
   ],
   "source": [
    "conn = engine.connect()\n",
    "select_stmt = select([cars_table])\n",
    "result = conn.execute(select_stmt)\n",
    "for row in result:\n",
    "    print(row)\n",
    "conn.close()"
   ]
  },
  {
   "cell_type": "code",
   "execution_count": null,
   "metadata": {},
   "outputs": [],
   "source": []
  }
 ],
 "metadata": {
  "kernelspec": {
   "display_name": "Python 3",
   "language": "python",
   "name": "python3"
  },
  "language_info": {
   "codemirror_mode": {
    "name": "ipython",
    "version": 3
   },
   "file_extension": ".py",
   "mimetype": "text/x-python",
   "name": "python",
   "nbconvert_exporter": "python",
   "pygments_lexer": "ipython3",
   "version": "3.8.6"
  }
 },
 "nbformat": 4,
 "nbformat_minor": 4
}
