{
 "cells": [
  {
   "cell_type": "code",
   "execution_count": 1,
   "metadata": {},
   "outputs": [
    {
     "name": "stdout",
     "output_type": "stream",
     "text": [
      ".\\.ipynb_checkpoints\\Untitled-checkpoint.ipynb\n",
      ".\\Module_6_Lab2-3\\DAL\\__pycache__\\operations.cpython-38.pyc\n",
      ".\\Module_6_Lab2-3\\DAL\\calculator.py\n",
      ".\\Module_6_Lab2-3\\DAL\\operations.py\n",
      ".\\Module_6_Lab2-3\\DAL\\__pycache__\n",
      ".\\Module_6_Lab2-3\\Defs\\__pycache__\\definitions.cpython-38.pyc\n",
      ".\\Module_6_Lab2-3\\Defs\\__pycache__\\definitions.cpython-39.pyc\n",
      ".\\Module_6_Lab2-3\\Defs\\definitions.py\n",
      ".\\Module_6_Lab2-3\\Defs\\__pycache__\n",
      ".\\Module_6_Lab2-3\\SampleRepository\\docs\\conf.py\n",
      ".\\Module_6_Lab2-3\\SampleRepository\\docs\\index.rst\n",
      ".\\Module_6_Lab2-3\\SampleRepository\\sample\\core.py\n",
      ".\\Module_6_Lab2-3\\SampleRepository\\sample\\core.pyc\n",
      ".\\Module_6_Lab2-3\\SampleRepository\\sample\\helpers.py\n",
      ".\\Module_6_Lab2-3\\SampleRepository\\sample\\window.pyw\n",
      ".\\Module_6_Lab2-3\\SampleRepository\\tests\\test.py\n",
      ".\\Module_6_Lab2-3\\SampleRepository\\tests\\test_basic.py\n",
      ".\\Module_6_Lab2-3\\SampleRepository\\LICENSE\n",
      ".\\Module_6_Lab2-3\\SampleRepository\\README.txt\n",
      ".\\Module_6_Lab2-3\\SampleRepository\\setup.py\n",
      ".\\Module_6_Lab2-3\\SampleRepository\\docs\n",
      ".\\Module_6_Lab2-3\\SampleRepository\\sample\n",
      ".\\Module_6_Lab2-3\\SampleRepository\\tests\n",
      ".\\Module_6_Lab2-3\\__pycache__\\definitions.cpython-38.pyc\n",
      ".\\Module_6_Lab2-3\\__pycache__\\main.cpython-38.pyc\n",
      ".\\Module_6_Lab2-3\\__pycache__\\main.cpython-39.pyc\n",
      ".\\Module_6_Lab2-3\\__pycache__\\operations.cpython-38.pyc\n",
      ".\\Module_6_Lab2-3\\calculator.py\n",
      ".\\Module_6_Lab2-3\\definitions.py\n",
      ".\\Module_6_Lab2-3\\main.py\n",
      ".\\Module_6_Lab2-3\\main_window.py\n",
      ".\\Module_6_Lab2-3\\operations.py\n",
      ".\\Module_6_Lab2-3\\DAL\n",
      ".\\Module_6_Lab2-3\\Defs\n",
      ".\\Module_6_Lab2-3\\SampleRepository\n",
      ".\\Module_6_Lab2-3\\__pycache__\n",
      ".\\arg_parcer_practice.py\n",
      ".\\ex1pipe.py\n",
      ".\\ex2pipe.py\n",
      ".\\Module_6_Lab4_os_module.py\n",
      ".\\Module_6_Lab5_my_sys.py\n",
      ".\\Module_6_Lab6_my_time.py\n",
      ".\\Module_6_Lab6_my_time_old.py\n",
      ".\\Module_6_Lab7_argparse_module.py\n",
      ".\\Module_6_Lab8_shutil_module.py\n",
      ".\\Module_6_Lab9_my_web.py\n",
      ".\\prog.py\n",
      ".\\Untitled.ipynb\n",
      ".\\.ipynb_checkpoints\n",
      ".\\Module_6_Lab2-3\n"
     ]
    }
   ],
   "source": [
    "import os\n",
    "for root, dirs, files in os.walk(\".\", topdown=False):\n",
    "    for name in files:\n",
    "        print(os.path.join(root, name))\n",
    "    for name in dirs:\n",
    "        print(os.path.join(root, name))"
   ]
  },
  {
   "cell_type": "code",
   "execution_count": 2,
   "metadata": {},
   "outputs": [
    {
     "name": "stdout",
     "output_type": "stream",
     "text": [
      ".\\arg_parcer_practice.py\n",
      ".\\ex1pipe.py\n",
      ".\\ex2pipe.py\n",
      ".\\Module_6_Lab4_os_module.py\n",
      ".\\Module_6_Lab5_my_sys.py\n",
      ".\\Module_6_Lab6_my_time.py\n",
      ".\\Module_6_Lab6_my_time_old.py\n",
      ".\\Module_6_Lab7_argparse_module.py\n",
      ".\\Module_6_Lab8_shutil_module.py\n",
      ".\\Module_6_Lab9_my_web.py\n",
      ".\\prog.py\n",
      ".\\Untitled.ipynb\n",
      ".\\.ipynb_checkpoints\n",
      ".\\Module_6_Lab2-3\n",
      ".\\.ipynb_checkpoints\\Untitled-checkpoint.ipynb\n",
      ".\\Module_6_Lab2-3\\calculator.py\n",
      ".\\Module_6_Lab2-3\\definitions.py\n",
      ".\\Module_6_Lab2-3\\main.py\n",
      ".\\Module_6_Lab2-3\\main_window.py\n",
      ".\\Module_6_Lab2-3\\operations.py\n",
      ".\\Module_6_Lab2-3\\DAL\n",
      ".\\Module_6_Lab2-3\\Defs\n",
      ".\\Module_6_Lab2-3\\SampleRepository\n",
      ".\\Module_6_Lab2-3\\__pycache__\n",
      ".\\Module_6_Lab2-3\\DAL\\calculator.py\n",
      ".\\Module_6_Lab2-3\\DAL\\operations.py\n",
      ".\\Module_6_Lab2-3\\DAL\\__pycache__\n",
      ".\\Module_6_Lab2-3\\DAL\\__pycache__\\operations.cpython-38.pyc\n",
      ".\\Module_6_Lab2-3\\Defs\\definitions.py\n",
      ".\\Module_6_Lab2-3\\Defs\\__pycache__\n",
      ".\\Module_6_Lab2-3\\Defs\\__pycache__\\definitions.cpython-38.pyc\n",
      ".\\Module_6_Lab2-3\\Defs\\__pycache__\\definitions.cpython-39.pyc\n",
      ".\\Module_6_Lab2-3\\SampleRepository\\LICENSE\n",
      ".\\Module_6_Lab2-3\\SampleRepository\\README.txt\n",
      ".\\Module_6_Lab2-3\\SampleRepository\\setup.py\n",
      ".\\Module_6_Lab2-3\\SampleRepository\\docs\n",
      ".\\Module_6_Lab2-3\\SampleRepository\\sample\n",
      ".\\Module_6_Lab2-3\\SampleRepository\\tests\n",
      ".\\Module_6_Lab2-3\\SampleRepository\\docs\\conf.py\n",
      ".\\Module_6_Lab2-3\\SampleRepository\\docs\\index.rst\n",
      ".\\Module_6_Lab2-3\\SampleRepository\\sample\\core.py\n",
      ".\\Module_6_Lab2-3\\SampleRepository\\sample\\core.pyc\n",
      ".\\Module_6_Lab2-3\\SampleRepository\\sample\\helpers.py\n",
      ".\\Module_6_Lab2-3\\SampleRepository\\sample\\window.pyw\n",
      ".\\Module_6_Lab2-3\\SampleRepository\\tests\\test.py\n",
      ".\\Module_6_Lab2-3\\SampleRepository\\tests\\test_basic.py\n",
      ".\\Module_6_Lab2-3\\__pycache__\\definitions.cpython-38.pyc\n",
      ".\\Module_6_Lab2-3\\__pycache__\\main.cpython-38.pyc\n",
      ".\\Module_6_Lab2-3\\__pycache__\\main.cpython-39.pyc\n",
      ".\\Module_6_Lab2-3\\__pycache__\\operations.cpython-38.pyc\n"
     ]
    }
   ],
   "source": [
    "import os\n",
    "for root, dirs, files in os.walk(\".\", topdown=True):\n",
    "    for name in files:\n",
    "        print(os.path.join(root, name))\n",
    "    for name in dirs:\n",
    "        print(os.path.join(root, name))"
   ]
  },
  {
   "cell_type": "code",
   "execution_count": 3,
   "metadata": {},
   "outputs": [
    {
     "data": {
      "text/plain": [
       "environ{'ALLUSERSPROFILE': 'C:\\\\ProgramData',\n",
       "        'APPDATA': 'C:\\\\Users\\\\Taras\\\\AppData\\\\Roaming',\n",
       "        'COMMONPROGRAMFILES': 'C:\\\\Program Files\\\\Common Files',\n",
       "        'COMMONPROGRAMFILES(X86)': 'C:\\\\Program Files (x86)\\\\Common Files',\n",
       "        'COMMONPROGRAMW6432': 'C:\\\\Program Files\\\\Common Files',\n",
       "        'COMPUTERNAME': 'DESKTOP-G93JT7H',\n",
       "        'COMSPEC': 'C:\\\\Windows\\\\system32\\\\cmd.exe',\n",
       "        'DRIVERDATA': 'C:\\\\Windows\\\\System32\\\\Drivers\\\\DriverData',\n",
       "        'FPS_BROWSER_APP_PROFILE_STRING': 'Internet Explorer',\n",
       "        'FPS_BROWSER_USER_PROFILE_STRING': 'Default',\n",
       "        'HOMEDRIVE': 'C:',\n",
       "        'HOMEPATH': '\\\\Users\\\\Taras',\n",
       "        'LOCALAPPDATA': 'C:\\\\Users\\\\Taras\\\\AppData\\\\Local',\n",
       "        'LOGONSERVER': '\\\\\\\\DESKTOP-G93JT7H',\n",
       "        'NUMBER_OF_PROCESSORS': '8',\n",
       "        'ONEDRIVE': 'C:\\\\Users\\\\Taras\\\\OneDrive',\n",
       "        'OS': 'Windows_NT',\n",
       "        'PATH': 'W:\\\\Python3\\\\ma_p29\\\\venv\\\\Scripts;C:\\\\Python39\\\\Scripts\\\\;C:\\\\Python39\\\\;C:\\\\Python38\\\\Scripts\\\\;C:\\\\Python38\\\\;C:\\\\Windows\\\\system32;C:\\\\Windows;C:\\\\Windows\\\\System32\\\\Wbem;C:\\\\Windows\\\\System32\\\\WindowsPowerShell\\\\v1.0\\\\;C:\\\\Windows\\\\System32\\\\OpenSSH\\\\;C:\\\\Program Files\\\\Git\\\\cmd;C:\\\\Users\\\\Taras\\\\AppData\\\\Local\\\\Microsoft\\\\WindowsApps;;C:\\\\Users\\\\Taras\\\\AppData\\\\Local\\\\Programs\\\\Microsoft VS Code\\\\bin',\n",
       "        'PATHEXT': '.COM;.EXE;.BAT;.CMD;.VBS;.VBE;.JS;.JSE;.WSF;.WSH;.MSC;.PY;.PYW;.CPL',\n",
       "        'PROCESSOR_ARCHITECTURE': 'AMD64',\n",
       "        'PROCESSOR_IDENTIFIER': 'Intel64 Family 6 Model 58 Stepping 9, GenuineIntel',\n",
       "        'PROCESSOR_LEVEL': '6',\n",
       "        'PROCESSOR_REVISION': '3a09',\n",
       "        'PROGRAMDATA': 'C:\\\\ProgramData',\n",
       "        'PROGRAMFILES': 'C:\\\\Program Files',\n",
       "        'PROGRAMFILES(X86)': 'C:\\\\Program Files (x86)',\n",
       "        'PROGRAMW6432': 'C:\\\\Program Files',\n",
       "        'PSMODULEPATH': 'C:\\\\Users\\\\Taras\\\\Documents\\\\WindowsPowerShell\\\\Modules;C:\\\\Program Files\\\\WindowsPowerShell\\\\Modules;C:\\\\Windows\\\\system32\\\\WindowsPowerShell\\\\v1.0\\\\Modules',\n",
       "        'PUBLIC': 'C:\\\\Users\\\\Public',\n",
       "        'SESSIONNAME': 'Console',\n",
       "        'SYSTEMDRIVE': 'C:',\n",
       "        'SYSTEMROOT': 'C:\\\\Windows',\n",
       "        'TEMP': 'C:\\\\Users\\\\Taras\\\\AppData\\\\Local\\\\Temp',\n",
       "        'TMP': 'C:\\\\Users\\\\Taras\\\\AppData\\\\Local\\\\Temp',\n",
       "        'USERDOMAIN': 'DESKTOP-G93JT7H',\n",
       "        'USERDOMAIN_ROAMINGPROFILE': 'DESKTOP-G93JT7H',\n",
       "        'USERNAME': 'Taras',\n",
       "        'USERPROFILE': 'C:\\\\Users\\\\Taras',\n",
       "        'VIRTUAL_ENV': 'W:\\\\Python3\\\\ma_p29\\\\venv',\n",
       "        'WINDIR': 'C:\\\\Windows',\n",
       "        '_OLD_VIRTUAL_PATH': 'C:\\\\Python39\\\\Scripts\\\\;C:\\\\Python39\\\\;C:\\\\Python38\\\\Scripts\\\\;C:\\\\Python38\\\\;C:\\\\Windows\\\\system32;C:\\\\Windows;C:\\\\Windows\\\\System32\\\\Wbem;C:\\\\Windows\\\\System32\\\\WindowsPowerShell\\\\v1.0\\\\;C:\\\\Windows\\\\System32\\\\OpenSSH\\\\;C:\\\\Program Files\\\\Git\\\\cmd;C:\\\\Users\\\\Taras\\\\AppData\\\\Local\\\\Microsoft\\\\WindowsApps;;C:\\\\Users\\\\Taras\\\\AppData\\\\Local\\\\Programs\\\\Microsoft VS Code\\\\bin',\n",
       "        'JPY_INTERRUPT_EVENT': '2844',\n",
       "        'IPY_INTERRUPT_EVENT': '2844',\n",
       "        'JPY_PARENT_PID': '2968',\n",
       "        'TERM': 'xterm-color',\n",
       "        'CLICOLOR': '1',\n",
       "        'PAGER': 'cat',\n",
       "        'GIT_PAGER': 'cat',\n",
       "        'MPLBACKEND': 'module://ipykernel.pylab.backend_inline'}"
      ]
     },
     "execution_count": 3,
     "metadata": {},
     "output_type": "execute_result"
    }
   ],
   "source": [
    "os.environ"
   ]
  },
  {
   "cell_type": "code",
   "execution_count": 4,
   "metadata": {},
   "outputs": [
    {
     "name": "stdout",
     "output_type": "stream",
     "text": [
      "back to normal\n"
     ]
    }
   ],
   "source": [
    "import sys\n",
    "temp = sys.stdout                 # store original stdout object for later\n",
    "sys.stdout = open('log.txt', 'w') # redirect all prints to this log file\n",
    "print(\"testing123\")               # nothing appears at interactive prompt\n",
    "print(\"another line\")             # again nothing appears. it's written to log file instead\n",
    "sys.stdout.close()                # ordinary file object\n",
    "sys.stdout = temp                 # restore print commands to interactive prompt\n",
    "print(\"back to normal\")           # this shows up in the interactive prompt"
   ]
  },
  {
   "cell_type": "code",
   "execution_count": 11,
   "metadata": {},
   "outputs": [],
   "source": [
    "lst = [[1,2,3,4,5,6,2,3,4,5,6,2,3,4,5], [1,2,3,4,5,6,2,3,4,5,6,2,3,4,5,6], [1,2,3,4,5,6,2,3,4,5,6,2,3,4,5,6]]"
   ]
  },
  {
   "cell_type": "code",
   "execution_count": 12,
   "metadata": {},
   "outputs": [
    {
     "data": {
      "text/plain": [
       "80"
      ]
     },
     "execution_count": 12,
     "metadata": {},
     "output_type": "execute_result"
    }
   ],
   "source": [
    "sys.getsizeof(lst)"
   ]
  },
  {
   "cell_type": "code",
   "execution_count": 13,
   "metadata": {},
   "outputs": [
    {
     "name": "stdout",
     "output_type": "stream",
     "text": [
      "184\n",
      "184\n",
      "184\n"
     ]
    }
   ],
   "source": [
    "for el in lst:\n",
    "    print(sys.getsizeof(el))"
   ]
  },
  {
   "cell_type": "code",
   "execution_count": 14,
   "metadata": {},
   "outputs": [],
   "source": [
    "import time  # import time module\n",
    "import datetime  # import datetime module"
   ]
  },
  {
   "cell_type": "code",
   "execution_count": 15,
   "metadata": {},
   "outputs": [
    {
     "name": "stdout",
     "output_type": "stream",
     "text": [
      "Tue Feb 16 21:07:58 2021\n"
     ]
    }
   ],
   "source": [
    "print(time.ctime())"
   ]
  },
  {
   "cell_type": "code",
   "execution_count": 18,
   "metadata": {},
   "outputs": [
    {
     "name": "stdout",
     "output_type": "stream",
     "text": [
      "<member 'tm_year' of 'time.struct_time' objects>\n"
     ]
    }
   ],
   "source": [
    "print(time.struct_time.tm_year) # Current time year"
   ]
  },
  {
   "cell_type": "code",
   "execution_count": 19,
   "metadata": {},
   "outputs": [
    {
     "name": "stdout",
     "output_type": "stream",
     "text": [
      "16 Feb. 2021 19:10\n"
     ]
    }
   ],
   "source": [
    "print (time.strftime(\"%d %b. %Y %H:%M\",time.gmtime()))"
   ]
  },
  {
   "cell_type": "code",
   "execution_count": 20,
   "metadata": {},
   "outputs": [
    {
     "name": "stdout",
     "output_type": "stream",
     "text": [
      "time.struct_time(tm_year=2021, tm_mon=9, tm_mday=19, tm_hour=10, tm_min=15, tm_sec=0, tm_wday=6, tm_yday=262, tm_isdst=-1)\n"
     ]
    }
   ],
   "source": [
    "print (time.strptime(\"19 Sep. 2021 10:15\", \"%d %b. %Y %H:%M\"))"
   ]
  },
  {
   "cell_type": "code",
   "execution_count": 21,
   "metadata": {},
   "outputs": [
    {
     "data": {
      "text/plain": [
       "<member 'tm_year' of 'time.struct_time' objects>"
      ]
     },
     "execution_count": 21,
     "metadata": {},
     "output_type": "execute_result"
    }
   ],
   "source": [
    "time.struct_time.tm_year"
   ]
  },
  {
   "cell_type": "code",
   "execution_count": 22,
   "metadata": {},
   "outputs": [],
   "source": [
    "t_f = time.strptime(\"19 Sep. 2021 10:15\", \"%d %b. %Y %H:%M\")"
   ]
  },
  {
   "cell_type": "code",
   "execution_count": 23,
   "metadata": {},
   "outputs": [
    {
     "data": {
      "text/plain": [
       "(10, 15)"
      ]
     },
     "execution_count": 23,
     "metadata": {},
     "output_type": "execute_result"
    }
   ],
   "source": [
    "t_f.tm_hour, t_f.tm_min"
   ]
  },
  {
   "cell_type": "code",
   "execution_count": 24,
   "metadata": {},
   "outputs": [
    {
     "data": {
      "text/plain": [
       "datetime.datetime(2021, 2, 16, 21, 13, 54, 816044)"
      ]
     },
     "execution_count": 24,
     "metadata": {},
     "output_type": "execute_result"
    }
   ],
   "source": [
    "datetime.datetime.now()"
   ]
  },
  {
   "cell_type": "code",
   "execution_count": 26,
   "metadata": {},
   "outputs": [
    {
     "data": {
      "text/plain": [
       "datetime.date(2021, 2, 15)"
      ]
     },
     "execution_count": 26,
     "metadata": {},
     "output_type": "execute_result"
    }
   ],
   "source": [
    "datetime.datetime.date(datetime.datetime.now()) - datetime.timedelta(1, 0)"
   ]
  },
  {
   "cell_type": "code",
   "execution_count": 27,
   "metadata": {},
   "outputs": [
    {
     "data": {
      "text/plain": [
       "datetime.date(2021, 2, 15)"
      ]
     },
     "execution_count": 27,
     "metadata": {},
     "output_type": "execute_result"
    }
   ],
   "source": [
    "time_1 = datetime.datetime.date(datetime.datetime.now()) - datetime.timedelta(1, 0)\n",
    "time_1"
   ]
  },
  {
   "cell_type": "code",
   "execution_count": 28,
   "metadata": {},
   "outputs": [
    {
     "data": {
      "text/plain": [
       "datetime.timedelta(days=1)"
      ]
     },
     "execution_count": 28,
     "metadata": {},
     "output_type": "execute_result"
    }
   ],
   "source": [
    "time_0 = datetime.datetime.date(datetime.datetime.now()) - time_1\n",
    "time_0"
   ]
  },
  {
   "cell_type": "code",
   "execution_count": 1,
   "metadata": {},
   "outputs": [],
   "source": [
    "import os"
   ]
  },
  {
   "cell_type": "code",
   "execution_count": 2,
   "metadata": {},
   "outputs": [
    {
     "data": {
      "text/plain": [
       "''"
      ]
     },
     "execution_count": 2,
     "metadata": {},
     "output_type": "execute_result"
    }
   ],
   "source": [
    "os.popen(\"ls\").read()"
   ]
  },
  {
   "cell_type": "code",
   "execution_count": 19,
   "metadata": {},
   "outputs": [
    {
     "data": {
      "text/plain": [
       "0"
      ]
     },
     "execution_count": 19,
     "metadata": {},
     "output_type": "execute_result"
    }
   ],
   "source": [
    "dr = os.system(\"dir\")\n",
    "dr"
   ]
  },
  {
   "cell_type": "code",
   "execution_count": 11,
   "metadata": {},
   "outputs": [
    {
     "data": {
      "text/plain": [
       "''"
      ]
     },
     "execution_count": 11,
     "metadata": {},
     "output_type": "execute_result"
    }
   ],
   "source": [
    "os.popen(\"cwd\").read()"
   ]
  },
  {
   "cell_type": "code",
   "execution_count": 12,
   "metadata": {},
   "outputs": [
    {
     "name": "stdout",
     "output_type": "stream",
     "text": [
      " Volume in drive W is Work\n",
      " Volume Serial Number is DC24-16C4\n",
      "\n",
      " Directory of W:\\Python3\\ma_p29\\jupyter_files\n",
      "\n",
      "18.02.2021  10:10    <DIR>          .\n",
      "18.02.2021  10:10    <DIR>          ..\n",
      "18.02.2021  10:06    <DIR>          .ipynb_checkpoints\n",
      "05.01.2021  20:21                 0 document\n",
      "05.01.2021  20:39                35 document.txt\n",
      "08.02.2021  23:15    <DIR>          homeworks\n",
      "17.12.2020  20:32               861 lesson2.ipynb\n",
      "22.12.2020  21:38             9я450 lesson3.ipynb\n",
      "24.12.2020  21:39             9я048 lesson4.ipynb\n",
      "29.12.2020  21:26            13я980 lesson5.ipynb\n",
      "05.01.2021  21:27            14я120 lesson6.ipynb\n",
      "19.01.2021  19:38             9я811 module_3.ipynb\n",
      "12.01.2021  19:09    <DIR>          module_3_core\n",
      "05.01.2021  22:05             6я934 module_3_jupyter_files.zip\n",
      "02.02.2021  20:16    <DIR>          module_4_syntax\n",
      "06.02.2021  22:00            21я624 module_5.ipynb\n",
      "12.02.2021  14:51    <DIR>          module_5_function\n",
      "18.02.2021  10:10            17я907 module_6.ipynb\n",
      "29.01.2021  21:34    <DIR>          module_6_modules\n",
      "29.01.2021  21:34    <DIR>          module_7_oop\n",
      "12.02.2021  15:16             3я160 Valeriy.ipynb\n",
      "09.02.2021  14:55            25я870 _classwork_module_5_27.ipynb\n",
      "              13 File(s)        132я800 bytes\n",
      "               9 Dir(s)  410я633я560я064 bytes free\n",
      "\n"
     ]
    }
   ],
   "source": [
    "print(os.popen(\"dir\").read())"
   ]
  },
  {
   "cell_type": "code",
   "execution_count": 2,
   "metadata": {},
   "outputs": [
    {
     "name": "stdout",
     "output_type": "stream",
     "text": [
      "comp name: DESKTOP-G93JT7H\n",
      "arch: AMD64\n"
     ]
    }
   ],
   "source": [
    "import platform\n",
    "\n",
    "print(f\"comp name: {platform.uname().node}\")\n",
    "print(f\"arch: {platform.uname().machine}\")"
   ]
  },
  {
   "cell_type": "code",
   "execution_count": null,
   "metadata": {},
   "outputs": [],
   "source": []
  },
  {
   "cell_type": "code",
   "execution_count": 3,
   "metadata": {},
   "outputs": [],
   "source": [
    "import sys"
   ]
  },
  {
   "cell_type": "code",
   "execution_count": 4,
   "metadata": {},
   "outputs": [],
   "source": [
    "import requests"
   ]
  },
  {
   "cell_type": "code",
   "execution_count": 5,
   "metadata": {},
   "outputs": [
    {
     "ename": "ModuleNotFoundError",
     "evalue": "No module named 'PIL'",
     "output_type": "error",
     "traceback": [
      "\u001b[1;31m---------------------------------------------------------------------------\u001b[0m",
      "\u001b[1;31mModuleNotFoundError\u001b[0m                       Traceback (most recent call last)",
      "\u001b[1;32m<ipython-input-5-70d569469e06>\u001b[0m in \u001b[0;36m<module>\u001b[1;34m\u001b[0m\n\u001b[1;32m----> 1\u001b[1;33m \u001b[1;32mimport\u001b[0m \u001b[0mPIL\u001b[0m\u001b[1;33m\u001b[0m\u001b[1;33m\u001b[0m\u001b[0m\n\u001b[0m",
      "\u001b[1;31mModuleNotFoundError\u001b[0m: No module named 'PIL'"
     ]
    }
   ],
   "source": [
    "import PIL"
   ]
  },
  {
   "cell_type": "code",
   "execution_count": null,
   "metadata": {},
   "outputs": [],
   "source": []
  }
 ],
 "metadata": {
  "kernelspec": {
   "display_name": "Python 3",
   "language": "python",
   "name": "python3"
  },
  "language_info": {
   "codemirror_mode": {
    "name": "ipython",
    "version": 3
   },
   "file_extension": ".py",
   "mimetype": "text/x-python",
   "name": "python",
   "nbconvert_exporter": "python",
   "pygments_lexer": "ipython3",
   "version": "3.8.6"
  }
 },
 "nbformat": 4,
 "nbformat_minor": 4
}
