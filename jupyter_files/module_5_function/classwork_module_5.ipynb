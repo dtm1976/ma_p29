{
 "cells": [
  {
   "cell_type": "markdown",
   "metadata": {},
   "source": [
    "### Palindromes"
   ]
  },
  {
   "cell_type": "markdown",
   "metadata": {},
   "source": [
    "#### There is code that check whether a string is palindrome or not"
   ]
  },
  {
   "cell_type": "code",
   "execution_count": 16,
   "metadata": {
    "collapsed": true,
    "jupyter": {
     "outputs_hidden": true
    }
   },
   "outputs": [],
   "source": [
    "st = \"level\""
   ]
  },
  {
   "cell_type": "code",
   "execution_count": 17,
   "metadata": {},
   "outputs": [
    {
     "name": "stdout",
     "output_type": "stream",
     "text": [
      "a pal\n"
     ]
    }
   ],
   "source": [
    "for i, v in enumerate(st[0:len(st)//2]):\n",
    "    if v != st[-1 - i]:      \n",
    "        print(\"not a pal\")\n",
    "        break\n",
    "else:\n",
    "    print(\"a pal\")"
   ]
  },
  {
   "cell_type": "markdown",
   "metadata": {},
   "source": [
    "#### Let's write a FUNCTION that take a string and check the same, but return True/False instead of print"
   ]
  },
  {
   "cell_type": "code",
   "execution_count": 1,
   "metadata": {},
   "outputs": [
    {
     "ename": "SyntaxError",
     "evalue": "unexpected EOF while parsing (<ipython-input-1-8e4a787b7def>, line 8)",
     "output_type": "error",
     "traceback": [
      "\u001b[1;36m  File \u001b[1;32m\"<ipython-input-1-8e4a787b7def>\"\u001b[1;36m, line \u001b[1;32m8\u001b[0m\n\u001b[1;33m    def is_pal_v2(st):\u001b[0m\n\u001b[1;37m                      ^\u001b[0m\n\u001b[1;31mSyntaxError\u001b[0m\u001b[1;31m:\u001b[0m unexpected EOF while parsing\n"
     ]
    }
   ],
   "source": [
    "def is_pal(st):\n",
    "    for i, v in enumerate(st[0:len(st)//2]):\n",
    "        if v != st[-1 - i]:      \n",
    "            return False\n",
    "    else:\n",
    "        return True\n",
    "\n",
    "def is_pal_v2(st):\n",
    "    return st == st[::-1]"
   ]
  },
  {
   "cell_type": "code",
   "execution_count": 13,
   "metadata": {},
   "outputs": [
    {
     "data": {
      "text/plain": [
       "'is_pal'"
      ]
     },
     "execution_count": 13,
     "metadata": {},
     "output_type": "execute_result"
    }
   ],
   "source": [
    "is_pal.__name__"
   ]
  },
  {
   "cell_type": "markdown",
   "metadata": {},
   "source": [
    "#### Check your function with the following data"
   ]
  },
  {
   "cell_type": "code",
   "execution_count": 4,
   "metadata": {},
   "outputs": [],
   "source": [
    "strings_for_checking = [('anna', True), ('sjfhdf', False), ('AAAA', True), ('123321', True), ('...,.sf4', False)]"
   ]
  },
  {
   "cell_type": "markdown",
   "metadata": {},
   "source": [
    "#### Write code to get to following output"
   ]
  },
  {
   "cell_type": "code",
   "execution_count": 11,
   "metadata": {},
   "outputs": [],
   "source": [
    "# TODO: for over tuples\n",
    "def test_pal(strings_for_checking):\n",
    "    for input_str, result in strings_for_checking:\n",
    "        print(f\"The string is: {input_str}. Is a palindrome? {is_pal(input_str)}. Expected: {result}\")"
   ]
  },
  {
   "cell_type": "code",
   "execution_count": 12,
   "metadata": {},
   "outputs": [
    {
     "name": "stdout",
     "output_type": "stream",
     "text": [
      "The string is: anna. Is a palindrome? True. Expected: True\n",
      "The string is: sjfhdf. Is a palindrome? False. Expected: False\n",
      "The string is: AAAA. Is a palindrome? True. Expected: True\n",
      "The string is: 123321. Is a palindrome? True. Expected: True\n",
      "The string is: ...,.sf4. Is a palindrome? False. Expected: False\n"
     ]
    }
   ],
   "source": [
    "test_pal(strings_for_checking)"
   ]
  },
  {
   "cell_type": "markdown",
   "metadata": {},
   "source": [
    "#### Write one more function that works for multiple words strings. See the example below "
   ]
  },
  {
   "cell_type": "code",
   "execution_count": 8,
   "metadata": {
    "collapsed": true,
    "jupyter": {
     "outputs_hidden": true
    }
   },
   "outputs": [],
   "source": [
    "st = \"fLee;to me remotE, Elf.\""
   ]
  },
  {
   "cell_type": "code",
   "execution_count": 17,
   "metadata": {},
   "outputs": [],
   "source": [
    "import string\n",
    "def is_multiple_word_pal(strs):\n",
    "    strs_list = [i.lower() for i in strs if i in string.ascii_letters]\n",
    "    return is_pal(\"\".join(strs_list))"
   ]
  },
  {
   "cell_type": "markdown",
   "metadata": {},
   "source": [
    "#### The function should remove any special character and does not match case"
   ]
  },
  {
   "cell_type": "code",
   "execution_count": 18,
   "metadata": {},
   "outputs": [
    {
     "data": {
      "text/plain": [
       "True"
      ]
     },
     "execution_count": 18,
     "metadata": {},
     "output_type": "execute_result"
    }
   ],
   "source": [
    "# HINTS: use string.ascii_letters (import string !!) to get only alphabet characters\n",
    "# and filter the others (the filter function or [i for i in [] if ...] expression)\n",
    "is_multiple_word_pal('fLee;to me remotE, Elf.')"
   ]
  },
  {
   "cell_type": "markdown",
   "metadata": {},
   "source": [
    "#### Put your check code from the above to a function and check with the following strings"
   ]
  },
  {
   "cell_type": "code",
   "execution_count": null,
   "metadata": {
    "collapsed": true,
    "jupyter": {
     "outputs_hidden": true
    }
   },
   "outputs": [],
   "source": [
    "strings_for_checking = [\n",
    "    ('fLee;to me remotE, Elf.', True),\n",
    "    ('AAA AAA AAA', True),\n",
    "    ('aBc;NnN%!#$@CbA ', True),\n",
    "    ('sdfdf sdfsdf sdf sdf ', False),\n",
    "    ('RttrtR', False)\n",
    "]"
   ]
  },
  {
   "cell_type": "markdown",
   "metadata": {},
   "source": [
    "### PI"
   ]
  },
  {
   "cell_type": "markdown",
   "metadata": {},
   "source": [
    "#### Compute PI using the following formula"
   ]
  },
  {
   "cell_type": "raw",
   "metadata": {},
   "source": [
    "pi ~ 3 + 4/(2 * 3 * 4) - 4/(4 * 5 * 6) + 4/(6 * 7 * 8) - 4/(8 * 9 * 10) + ...\n",
    "pi ~ 3 + (-1)**(i+1) * 4/(2*i * (2*i+1) * (2*i+2)) + ...\n",
    "abs(pi_prev - pi_curr) < prec"
   ]
  },
  {
   "cell_type": "markdown",
   "metadata": {},
   "source": [
    "#### Write a function that takes an argument that specify the precision"
   ]
  },
  {
   "cell_type": "code",
   "execution_count": null,
   "metadata": {},
   "outputs": [
    {
     "name": "stdout",
     "output_type": "stream",
     "text": [
      "Processing time: 118.322 sec.\n",
      "3.1416353566793886 3.141592653589793\n"
     ]
    }
   ],
   "source": [
    "from math import pi\n",
    "from time import time\n",
    "\n",
    "def timer(func):        \n",
    "    def func_wrapper(*func_args):\n",
    "        start = time()\n",
    "        result = func(*func_args)\n",
    "        print(f\"Processing time: {time()-start:.6} sec.\")\n",
    "        return result\n",
    "    return func_wrapper\n",
    "\n",
    "@timer\n",
    "def get_pi(precision):\n",
    "    # TODO: implement the function\n",
    "    pi_prev, pi_curr = 3, 3 + 4/(2 * 3 * 4)\n",
    "    i = 2\n",
    "#     print(pi_curr)\n",
    "    while abs(pi_prev - pi_curr) > precision:\n",
    "        pi_prev, pi_curr = pi_curr, pi_curr + (-1)**(i+1) * 4/(2*i * (2*i+1) * (2*i+2))\n",
    "        i += 1\n",
    "#         print(pi_curr)\n",
    "    return pi_curr\n",
    "\n",
    "print(get_pi(0.0001), pi)\n",
    "# print(get_pi(0.00000001), pi)\n",
    "# print(get_pi(1e-20), pi)"
   ]
  },
  {
   "cell_type": "markdown",
   "metadata": {},
   "source": [
    "### CRANGE"
   ]
  },
  {
   "cell_type": "markdown",
   "metadata": {},
   "source": [
    "#### Implement a simple range() function as a generator (def it as crange(start, stop))"
   ]
  },
  {
   "cell_type": "code",
   "execution_count": 6,
   "metadata": {},
   "outputs": [],
   "source": [
    "def crange(start, stop):\n",
    "    for ind in range(start, stop):\n",
    "        # ...\n",
    "        yield ind\n",
    "    return \"The end!\"\n",
    "        \n",
    "def crange_while(start, stop):\n",
    "    ind = start\n",
    "    while ind < stop:\n",
    "        # ...\n",
    "        yield ind\n",
    "        ind += 1\n",
    "    return \"The end!\"\n",
    "\n",
    "def crange_1(start, stop):\n",
    "    ind = start\n",
    "    while True:\n",
    "        # ...\n",
    "        if ind < stop:\n",
    "            yield ind\n",
    "            ind += 1\n",
    "        else:\n",
    "            return \"The end!\""
   ]
  },
  {
   "cell_type": "markdown",
   "metadata": {},
   "source": [
    "#### Use the following code to check yourself"
   ]
  },
  {
   "cell_type": "code",
   "execution_count": 7,
   "metadata": {},
   "outputs": [
    {
     "name": "stdout",
     "output_type": "stream",
     "text": [
      "150\n",
      "151\n",
      "152\n",
      "153\n",
      "154\n",
      "150\n",
      "151\n",
      "152\n",
      "153\n",
      "154\n"
     ]
    },
    {
     "ename": "StopIteration",
     "evalue": "The end!",
     "output_type": "error",
     "traceback": [
      "\u001b[1;31m---------------------------------------------------------------------------\u001b[0m",
      "\u001b[1;31mStopIteration\u001b[0m                             Traceback (most recent call last)",
      "\u001b[1;32m<ipython-input-7-31e3b06c68ee>\u001b[0m in \u001b[0;36m<module>\u001b[1;34m\u001b[0m\n\u001b[0;32m     11\u001b[0m \u001b[0mprint\u001b[0m\u001b[1;33m(\u001b[0m\u001b[0mnext\u001b[0m\u001b[1;33m(\u001b[0m\u001b[0mg\u001b[0m\u001b[1;33m)\u001b[0m\u001b[1;33m)\u001b[0m\u001b[1;33m\u001b[0m\u001b[1;33m\u001b[0m\u001b[0m\n\u001b[0;32m     12\u001b[0m \u001b[0mprint\u001b[0m\u001b[1;33m(\u001b[0m\u001b[0mnext\u001b[0m\u001b[1;33m(\u001b[0m\u001b[0mg\u001b[0m\u001b[1;33m)\u001b[0m\u001b[1;33m)\u001b[0m\u001b[1;33m\u001b[0m\u001b[1;33m\u001b[0m\u001b[0m\n\u001b[1;32m---> 13\u001b[1;33m \u001b[0mprint\u001b[0m\u001b[1;33m(\u001b[0m\u001b[0mnext\u001b[0m\u001b[1;33m(\u001b[0m\u001b[0mg\u001b[0m\u001b[1;33m)\u001b[0m\u001b[1;33m)\u001b[0m\u001b[1;33m\u001b[0m\u001b[1;33m\u001b[0m\u001b[0m\n\u001b[0m\u001b[0;32m     14\u001b[0m \u001b[1;33m\u001b[0m\u001b[0m\n\u001b[0;32m     15\u001b[0m \u001b[1;31m# should generate the appropriate list\u001b[0m\u001b[1;33m\u001b[0m\u001b[1;33m\u001b[0m\u001b[1;33m\u001b[0m\u001b[0m\n",
      "\u001b[1;31mStopIteration\u001b[0m: The end!"
     ]
    }
   ],
   "source": [
    "# should print numbers from 150 to 154\n",
    "for i in crange_1(150, 155):\n",
    "    print(i)\n",
    "\n",
    "\n",
    "# should print the same as above \n",
    "g = crange_1(150, 155)\n",
    "print(next(g))\n",
    "print(next(g))\n",
    "print(next(g))\n",
    "print(next(g))\n",
    "print(next(g))\n",
    "print(next(g))\n",
    "\n",
    "# should generate the appropriate list\n",
    "assert list(crange(5, 7)) == [5, 6]"
   ]
  },
  {
   "cell_type": "markdown",
   "metadata": {},
   "source": [
    "### Decorators"
   ]
  },
  {
   "cell_type": "markdown",
   "metadata": {},
   "source": [
    "#### Print the input arguments inside a decorator"
   ]
  },
  {
   "cell_type": "code",
   "execution_count": 11,
   "metadata": {},
   "outputs": [
    {
     "name": "stdout",
     "output_type": "stream",
     "text": [
      "args: (1,); kwargs: {'b': 2, 'c': 3}\n",
      "6\n",
      "args: (); kwargs: {'lst': [1, 2, 3]}\n"
     ]
    },
    {
     "data": {
      "text/plain": [
       "[1, 2, 3]"
      ]
     },
     "execution_count": 11,
     "metadata": {},
     "output_type": "execute_result"
    }
   ],
   "source": [
    "# def val_decorator(func):        \n",
    "#     def func_wrapper(*func_args):\n",
    "#         pass\n",
    "#     return func_wrapper\n",
    "def print_args(some_fn):\n",
    "    \"\"\"\n",
    "    This decorator prints all arguments of function\n",
    "    \"\"\"\n",
    "    # args: (1,); kwargs: {'b': 2, 'c': 3}\n",
    "    def func_wrapper(*args, **kwargs):\n",
    "        print(f\"args: {str(args)}; kwargs: {str(kwargs)}\")\n",
    "        return some_fn(*args, **kwargs)\n",
    "    return func_wrapper\n",
    "\n",
    "\n",
    "@print_args\n",
    "def fun(a, b, c):\n",
    "    d = a + b + c\n",
    "    return d\n",
    "\n",
    "\n",
    "@print_args\n",
    "def fun_2(lst):\n",
    "    return lst\n",
    "\n",
    "\n",
    "res = fun(1, b=2, c=3)\n",
    "print(res)\n",
    "fun_2(lst=[1,2,3])"
   ]
  },
  {
   "cell_type": "markdown",
   "metadata": {},
   "source": [
    "#### Implement a parametrized decorator which checks type of arguments"
   ]
  },
  {
   "cell_type": "code",
   "execution_count": 15,
   "metadata": {},
   "outputs": [
    {
     "data": {
      "text/plain": [
       "True"
      ]
     },
     "execution_count": 15,
     "metadata": {},
     "output_type": "execute_result"
    }
   ],
   "source": [
    "# type(6) == int, type(3) is int\n",
    "isinstance(6.9, (int, float))"
   ]
  },
  {
   "cell_type": "code",
   "execution_count": 29,
   "metadata": {},
   "outputs": [
    {
     "name": "stdout",
     "output_type": "stream",
     "text": [
      "ValueError:  argument (1, 2, 3) has not type '(<class 'list'>, <class 'set'>)'\n"
     ]
    }
   ],
   "source": [
    "def validator(*args):\n",
    "    def val_decorator(func):        \n",
    "        def func_wrapper(*func_args):\n",
    "            for arg, f_arg in zip(args, func_args):\n",
    "                if not isinstance(f_arg, arg):\n",
    "                    raise ValueError(f\" argument {f_arg} has not type '{arg}'\")\n",
    "            return func(*func_args)\n",
    "        return func_wrapper\n",
    "    return val_decorator\n",
    "\n",
    "\n",
    "@validator(int, (list, set))\n",
    "def some_fun(a, b):\n",
    "    return a, b\n",
    "\n",
    "some_fun(1, [1,2,3])  # NOT OK, raise ValueError(\"type error\")\n",
    "a, b = 1, (1,2,3)\n",
    "try:\n",
    "    some_fun(a, b)\n",
    "except ValueError as err:\n",
    "    print(f\"{err.__class__.__name__}: {err}\")"
   ]
  },
  {
   "cell_type": "markdown",
   "metadata": {},
   "source": [
    "#### Log to a file"
   ]
  },
  {
   "cell_type": "code",
   "execution_count": null,
   "metadata": {
    "collapsed": true,
    "jupyter": {
     "outputs_hidden": true
    }
   },
   "outputs": [],
   "source": [
    "# Write a decorator which wraps functions to log function arguments\n",
    "# and the return value on each call.\n",
    "# Provide support for both positional and\n",
    "# named arguments (your wrapper function should take both\n",
    "# *args and **kwargs and print them both):\n",
    "\n",
    "@logged('log.txt')\n",
    "def func(*args):\n",
    "    return 3 + len(args)\n",
    "\n",
    "func(4, 4, 4)"
   ]
  },
  {
   "cell_type": "raw",
   "metadata": {},
   "source": [
    ">> cat log.txt:\n",
    "\n",
    "'func' was called with the positional args '4, 4, 4' "
   ]
  },
  {
   "cell_type": "code",
   "execution_count": 24,
   "metadata": {},
   "outputs": [],
   "source": [
    "@logged('log2.txt')\n",
    "def simple_sum(a, b, c, **kwargs):\n",
    "    return sum([a, b, c]) + sum(list(kwargs.values()))\n",
    "\n",
    "simple_sum(a=4, b=4, c=4)"
   ]
  },
  {
   "cell_type": "raw",
   "metadata": {},
   "source": [
    ">> cat log2.txt:\n",
    "\n",
    "'simple_sum' was called with the keyword args 'a=4, b=4, c=4' "
   ]
  },
  {
   "cell_type": "markdown",
   "metadata": {},
   "source": [
    "#### Cache function calls results"
   ]
  },
  {
   "cell_type": "code",
   "execution_count": null,
   "metadata": {
    "collapsed": true,
    "jupyter": {
     "outputs_hidden": true
    }
   },
   "outputs": [],
   "source": [
    "# Write a decorator to cache function invocation results.\n",
    "# Store pairs arg:result in a dictionary in an\n",
    "# attribute of the function object.\n",
    "# The function being memoized is: fibonacci"
   ]
  },
  {
   "cell_type": "markdown",
   "metadata": {},
   "source": [
    "# Overview"
   ]
  },
  {
   "cell_type": "markdown",
   "metadata": {},
   "source": [
    "### Functions"
   ]
  },
  {
   "cell_type": "code",
   "execution_count": 8,
   "metadata": {},
   "outputs": [
    {
     "name": "stdout",
     "output_type": "stream",
     "text": [
      "101\n"
     ]
    }
   ],
   "source": [
    "def fun(a):\n",
    "    return a + 1\n",
    "\n",
    "print(fun(100))"
   ]
  },
  {
   "cell_type": "code",
   "execution_count": 9,
   "metadata": {},
   "outputs": [
    {
     "name": "stdout",
     "output_type": "stream",
     "text": [
      "[[1, 2, 3], 2, 3]\n"
     ]
    }
   ],
   "source": [
    "def change_list(lst):\n",
    "    lst[0] = [1,2,3]\n",
    "    \n",
    "a = [1,2,3]\n",
    "change_list(a)\n",
    "\n",
    "print(a)"
   ]
  },
  {
   "cell_type": "code",
   "execution_count": 12,
   "metadata": {
    "collapsed": true,
    "jupyter": {
     "outputs_hidden": true
    }
   },
   "outputs": [],
   "source": [
    "ran = 15\n",
    "\n",
    "def fun():\n",
    "    a = 1\n",
    "    def fun_inner():\n",
    "        nonlocal a\n",
    "        a += 10\n",
    "        return [i * 2 for i in range(a)]\n",
    "    return fun_inner()"
   ]
  },
  {
   "cell_type": "code",
   "execution_count": 13,
   "metadata": {},
   "outputs": [
    {
     "data": {
      "text/plain": [
       "[0, 2, 4, 6, 8, 10, 12, 14, 16, 18, 20]"
      ]
     },
     "execution_count": 13,
     "metadata": {},
     "output_type": "execute_result"
    }
   ],
   "source": [
    "fun()"
   ]
  },
  {
   "cell_type": "code",
   "execution_count": 14,
   "metadata": {},
   "outputs": [
    {
     "name": "stdout",
     "output_type": "stream",
     "text": [
      "1, 2, 3, 4, 5, 6, 7, 8, 9, 10, "
     ]
    }
   ],
   "source": [
    "def recurs(a):\n",
    "    print(a, end=', ')\n",
    "    if a < 10:\n",
    "        recurs(a + 1)\n",
    "        \n",
    "recurs(1)"
   ]
  },
  {
   "cell_type": "code",
   "execution_count": 42,
   "metadata": {},
   "outputs": [
    {
     "data": {
      "text/plain": [
       "[3]"
      ]
     },
     "execution_count": 42,
     "metadata": {},
     "output_type": "execute_result"
    }
   ],
   "source": [
    "list(filter(lambda x: x > 2, [1,2,3]))"
   ]
  },
  {
   "cell_type": "code",
   "execution_count": 16,
   "metadata": {},
   "outputs": [
    {
     "name": "stdout",
     "output_type": "stream",
     "text": [
      "(1, 2, 3) <class 'tuple'>\n"
     ]
    }
   ],
   "source": [
    "func = lambda a, b, c: (a, b, c)\n",
    "res = func(1, 2, 3)\n",
    "\n",
    "print(res, type(res))"
   ]
  },
  {
   "cell_type": "code",
   "execution_count": 17,
   "metadata": {},
   "outputs": [
    {
     "data": {
      "text/plain": [
       "['new val 2', 'new val 4', 'new val 6']"
      ]
     },
     "execution_count": 17,
     "metadata": {},
     "output_type": "execute_result"
    }
   ],
   "source": [
    "list(map(lambda x: 'new val %s' % (x * 2), [1,2,3]))"
   ]
  },
  {
   "cell_type": "markdown",
   "metadata": {},
   "source": [
    "### Generators"
   ]
  },
  {
   "cell_type": "code",
   "execution_count": 68,
   "metadata": {
    "collapsed": true,
    "jupyter": {
     "outputs_hidden": true
    }
   },
   "outputs": [],
   "source": [
    "def not_gen():\n",
    "    return 10\n",
    "\n",
    "\n",
    "def gen():\n",
    "    a = 100500\n",
    "    yield a\n",
    "    \n",
    "    b = a - 500\n",
    "    yield b \n",
    "    \n",
    "g = gen()"
   ]
  },
  {
   "cell_type": "code",
   "execution_count": 69,
   "metadata": {},
   "outputs": [
    {
     "data": {
      "text/plain": [
       "100500"
      ]
     },
     "execution_count": 69,
     "metadata": {},
     "output_type": "execute_result"
    }
   ],
   "source": [
    "next(g)"
   ]
  },
  {
   "cell_type": "code",
   "execution_count": 70,
   "metadata": {},
   "outputs": [
    {
     "data": {
      "text/plain": [
       "100000"
      ]
     },
     "execution_count": 70,
     "metadata": {},
     "output_type": "execute_result"
    }
   ],
   "source": [
    "next(g)"
   ]
  },
  {
   "cell_type": "code",
   "execution_count": 71,
   "metadata": {},
   "outputs": [
    {
     "ename": "StopIteration",
     "evalue": "",
     "output_type": "error",
     "traceback": [
      "\u001b[0;31m---------------------------------------------------------------------------\u001b[0m",
      "\u001b[0;31mStopIteration\u001b[0m                             Traceback (most recent call last)",
      "\u001b[0;32m<ipython-input-71-5f315c5de15b>\u001b[0m in \u001b[0;36m<module>\u001b[0;34m()\u001b[0m\n\u001b[0;32m----> 1\u001b[0;31m \u001b[0mnext\u001b[0m\u001b[0;34m(\u001b[0m\u001b[0mg\u001b[0m\u001b[0;34m)\u001b[0m\u001b[0;34m\u001b[0m\u001b[0m\n\u001b[0m",
      "\u001b[0;31mStopIteration\u001b[0m: "
     ]
    }
   ],
   "source": [
    "next(g)"
   ]
  },
  {
   "cell_type": "code",
   "execution_count": 72,
   "metadata": {},
   "outputs": [
    {
     "data": {
      "text/plain": [
       "100500"
      ]
     },
     "execution_count": 72,
     "metadata": {},
     "output_type": "execute_result"
    }
   ],
   "source": [
    "g2 = gen()\n",
    "next(g2)"
   ]
  },
  {
   "cell_type": "markdown",
   "metadata": {},
   "source": [
    "### Decoratos"
   ]
  },
  {
   "cell_type": "markdown",
   "metadata": {},
   "source": [
    "#### Main idea"
   ]
  },
  {
   "cell_type": "code",
   "execution_count": null,
   "metadata": {
    "collapsed": true,
    "jupyter": {
     "outputs_hidden": true
    }
   },
   "outputs": [],
   "source": [
    "def my_decorator(some_function):\n",
    "\n",
    "    def wrapper(a):\n",
    "        print(\"Something is happening before some_function() is called.\")\n",
    "        print(some_function, a)\n",
    "        res = some_function(a)\n",
    "\n",
    "        print(\"Something is happening after some_function() is called.\")\n",
    "        return res\n",
    "\n",
    "    return wrapper\n",
    "\n",
    "\n",
    "def just_some_function(name):\n",
    "    print(\"Wheee! %s\" % name)\n",
    "    return 1\n",
    "\n",
    "\n",
    "just_some_function_1 = my_decorator(just_some_function)\n",
    "\n",
    "res = just_some_function_1(\"SomeName\")\n",
    "print(res)"
   ]
  },
  {
   "cell_type": "markdown",
   "metadata": {},
   "source": [
    "#### Simple example"
   ]
  },
  {
   "cell_type": "code",
   "execution_count": null,
   "metadata": {
    "collapsed": true,
    "jupyter": {
     "outputs_hidden": true
    }
   },
   "outputs": [],
   "source": [
    "# simple decorator\n",
    "def p_decorate(func):\n",
    "    def func_wrapper(name):\n",
    "        return \"<p>{0}</p>\".format(func(name))\n",
    "    return func_wrapper\n",
    "\n",
    "@p_decorate\n",
    "def get_text(name):\n",
    "    return \"lorem ipsum, {0} dolor sit amet\".format(name)\n",
    "\n",
    "@p_decorate\n",
    "def get_text2(name):\n",
    "    return \"lorem ipsum, {0}\".format(name)\n",
    "\n",
    "print(get_text(name=\"some name\"))\n",
    "print(get_text(name=\"some name 2\"))"
   ]
  },
  {
   "cell_type": "markdown",
   "metadata": {},
   "source": [
    "#### With a parameter"
   ]
  },
  {
   "cell_type": "code",
   "execution_count": 15,
   "metadata": {},
   "outputs": [
    {
     "name": "stdout",
     "output_type": "stream",
     "text": [
      "func_wrapper\n",
      "\n",
      "            this is func_wr\n",
      "            \n",
      "__main__\n"
     ]
    },
    {
     "data": {
      "text/plain": [
       "'<p>Hello username</p>'"
      ]
     },
     "execution_count": 15,
     "metadata": {},
     "output_type": "execute_result"
    }
   ],
   "source": [
    "# decorator with parameters\n",
    "def tags(tag_name):\n",
    "    def tags_decorator(func):\n",
    "        def func_wrapper(name):\n",
    "            \"\"\"\n",
    "            this is func_wr\n",
    "            \"\"\"\n",
    "            return \"<{0}>{1}</{0}>\".format(tag_name, func(name))\n",
    "        return func_wrapper\n",
    "    return tags_decorator\n",
    "\n",
    "@tags(\"p\")\n",
    "def get_text(name):\n",
    "    return \"Hello \" + name\n",
    "\n",
    "get_text(name=\"username\")\n",
    "print(get_text.__name__)\n",
    "print(get_text.__doc__)\n",
    "print(get_text.__module__)\n",
    "get_text(name=\"username\")"
   ]
  },
  {
   "cell_type": "markdown",
   "metadata": {},
   "source": [
    "#### With keeping a proper name/doc/etc"
   ]
  },
  {
   "cell_type": "code",
   "execution_count": 16,
   "metadata": {},
   "outputs": [
    {
     "name": "stdout",
     "output_type": "stream",
     "text": [
      "get_text\n",
      "returns some text\n",
      "__main__\n"
     ]
    }
   ],
   "source": [
    "# wraps\n",
    "from functools import wraps\n",
    "\n",
    "def tags(tag_name):\n",
    "    def tags_decorator(func):\n",
    "        @wraps(func)\n",
    "        def func_wrapper(name):\n",
    "            return \"<{0}>{1}</{0}>\".format(tag_name, func(name))\n",
    "        return func_wrapper\n",
    "    return tags_decorator\n",
    "\n",
    "@tags(\"p\")\n",
    "def get_text(name):\n",
    "    \"\"\"returns some text\"\"\"\n",
    "    return \"Hello \" + name\n",
    "\n",
    "# but without \"wraps\" - decorator info\n",
    "print(get_text.__name__)\n",
    "print(get_text.__doc__)\n",
    "print(get_text.__module__)"
   ]
  },
  {
   "cell_type": "markdown",
   "metadata": {},
   "source": [
    "### Example with file processing"
   ]
  },
  {
   "cell_type": "code",
   "execution_count": null,
   "metadata": {
    "collapsed": true,
    "jupyter": {
     "outputs_hidden": true
    }
   },
   "outputs": [],
   "source": [
    "def open_file(func):\n",
    "    def wrapper(filename):\n",
    "        f = open(filename, 'w')\n",
    "        func(f)\n",
    "    return wrapper\n",
    "\n",
    "def file_processing(file):\n",
    "    file.write(\"hello\")\n",
    "\n",
    "@open_file\n",
    "def file_processing_1(file):\n",
    "    file.write(\"hello\")\n",
    "    \n",
    "file_processing(\"filename\")"
   ]
  }
 ],
 "metadata": {
  "kernelspec": {
   "display_name": "Python 3",
   "language": "python",
   "name": "python3"
  },
  "language_info": {
   "codemirror_mode": {
    "name": "ipython",
    "version": 3
   },
   "file_extension": ".py",
   "mimetype": "text/x-python",
   "name": "python",
   "nbconvert_exporter": "python",
   "pygments_lexer": "ipython3",
   "version": "3.8.6"
  }
 },
 "nbformat": 4,
 "nbformat_minor": 4
}
